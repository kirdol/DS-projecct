{
  "cells": [
    {
      "cell_type": "markdown",
      "metadata": {},
      "source": [
        "```{css, echo = FALSE}\n",
        ".justify {\n",
        "  text-align: justify !important\n",
        "}\n",
        "```\n",
        "\n",
        "\n",
        "# Introduction\n",
        "\n",
        "## Overview and Motivation\n",
        "\n",
        "In 2015, the SDGs were adopted by the United Nations. This adoption by the 193 member states of the goals to adress pressing issues such as poverty, inequality, climate, change, and more show how important these goals are. This pushes us to ask ourselves if we could evalutate the progress? To see what has been done so far? The adoption was well supported but it is still important to see with the help of data, how this adoption impacted the goal scores in 2015. Understanding the actions taken and progress made is essential in determining if these global commitments are resulting in concrete enhancements to individuals' lives. By examining the evolution of all countries and their respective contributions towards achieving the SDGs, we can develop a comprehensive understanding of collective efforts and identify potential disparities or gaps.\n",
        "\n",
        "## Related Work\n",
        "\n",
        "Given the scale and the challenge that revolves around the SDGs, there are many researches that have been done on the topic. We have found some interesting ones that we found interesting to look at to get a better understanding of the topic. One of them, is none other than the report of the United Nations on the SDGs. This report is a comprehensive annual assessment of global and regional progress towards the SDGs. It is based on the latest available data and is prepared by the Statistics Division of the United Nations Department of Economic and Social Affairs.\n",
        "\n",
        "* <a href=\"https://unstats.un.org/sdgs/report/2023/\">The Sustainable Development Goals Report 2023</a>\n",
        "\n",
        "Allen et al. (2018) discuss the initial progress on the implementation of SDGs and point out the fact that even if some progress are made, they are not homogeneous across countries and that there is still a lot to do in terms of evaluating the synergies between SDGs, as well as trade-offs. Our project further investigates the evolution of SDG scores along the years, the yearly progress of the countries and the link between SDGs. \n",
        "\n",
        "Some papers focus on the factors influencing a specific goal and/or a country, such as Rassanjani (2018) that explores goal 1 in Indonesia. We want to investigation the evolution of all SDGs across 166 countries. Other papers study one specific factor, like Grover et al. (2021), that focus on the influence of political leaders. In addition Çağlar and Gürler (2021) analysed 110 countries to create clusters based on the SDG scores, socioeconomic and politico-cultural indicators, that were found to be positively correlated with most of the SDG scores. We want to further investigate these aspects using the human freedom index and several other variables.    \n",
        "\n",
        "Sompolska-Rzechuła and Kurdyś-Kujawska (2021) investigate how SDGs interact through human-environment linkage, while Pradhan et al. (2017) found synergies between most of the SDGs, except SDG 12 with which tradeoffs are associated.\n",
        "\n",
        "The impact of different events on SDGs have been studied, for example, Shulla et al. (2021) look at the impact of COVID on the SDGs that are easily linked to it, through a qualitative research and found that also \"not obvious\" SDGs were affetced, such as SDG 10 (Reducing Inequalities) and SDG 5 (Gender Equality). Another example is the research from Pereira et al. (2022) that found that the Russian-Ukrainian conflicts has negatively impacted the SDGs, and other papers focus on specific parts of the world to assess the impact of conflicts on SDG scores. We want to have a look at as many countries as possible to see if patterns emerge regarding this topic. We see that the impact of events on specific areas and/or SDGs have been investigated, however, a more general overview of the effect of such events on all SDGs worldwide have not been conducted, we aim to ...\n",
        "\n",
        "\n",
        "## Research questions\n",
        "\n",
        "1.  **Focus on factors**: What can explain the state of the countries regarding sustainable development? (we will analyse different factors: scores from the human freedom index, GDP per capita, military expenditures in % of GDP/government expenditure, unemployment rate, internet usage). See data description for more precise information about the factors.\n",
        "\n",
        "2.  **Focus on relationship between SDGs**: How are the different SDGs linked? (We want to see if some SDGs are linked in the fact that a high score on one implies a high score on the other, and thus if we can make groups of SDGs that are comparable in that way).\n",
        "\n",
        "3.  **Focus on time**: How has the adoption of the SDGs in 2015 influenced the achievement of SDGs? (we want to compare the achievement (SDG scores: there are scores calculated even before the adoption) of the different countries before and after 2015 to see if the adoption of SDG gave a real \"push\" to sustainable development)\n",
        "\n",
        "4.  **Focus on events**: Is the evolution in sustainable development influenced by uncontrollable events, such as economic crisis, health crises and natural disasters? (we will analyse the impact of the COVID, natural disasters and conflicts (# deaths, damages, etc.) on the SDG scores). See data description for more precise information about how the impact of these events are materialized into data."
      ],
      "id": "2c5cfa53"
    }
  ],
  "metadata": {
    "kernelspec": {
      "display_name": "Python 3",
      "language": "python",
      "name": "python3"
    }
  },
  "nbformat": 4,
  "nbformat_minor": 5
}